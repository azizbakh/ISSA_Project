{
 "cells": [
  {
   "cell_type": "code",
   "execution_count": 193,
   "metadata": {},
   "outputs": [],
   "source": [
    "import requests\n",
    "def pdf_convert_xml(pdf_link):\n",
    "    GROBID_URL = 'http://localhost:8080'\n",
    "    url = '%s/api/processHeaderDocument' % GROBID_URL\n",
    "    pdf = requests.get(pdf_link)\n",
    "    xml = requests.post(url, files={'input': pdf.content})\n",
    "    return xml.text\n",
    "xml = pdf_convert_xml('https://agritrop.cirad.fr/594895/1/Ahmed2020_Article_TheEffectOfCrossDirectionAndPl.pdf')\n"
   ]
  },
  {
   "cell_type": "code",
   "execution_count": 194,
   "metadata": {},
   "outputs": [],
   "source": [
    "from lxml import etree\n",
    "from six import text_type\n",
    "NS = {'tei': 'http://www.tei-c.org/ns/1.0'}\n",
    "\n",
    "\n",
    "def tei_to_dict(tei):\n",
    "    parser = etree.XMLParser(encoding='UTF-8', recover=True)\n",
    "    tei = tei if not isinstance(tei, text_type) else tei.encode('utf-8')\n",
    "    root = etree.fromstring(tei, parser)\n",
    "\n",
    "    result = {}\n",
    "\n",
    "    abstract = get_abstract(root)\n",
    "    if abstract and len(abstract) == 1:\n",
    "        result['abstract'] = abstract[0].text\n",
    "\n",
    "    authors = get_authors(root)\n",
    "    if authors:\n",
    "        result['authors'] = list(map(element_to_author, authors))\n",
    "\n",
    "    keywords = get_keywords(root)\n",
    "    if keywords and len(keywords) == 1:\n",
    "        result['keywords'] = extract_keywords(keywords[0])\n",
    "\n",
    "    title = get_title(root)\n",
    "    if title and len(title) == 1:\n",
    "        result['title'] = title[0].text\n",
    "\n",
    "    references = get_references(root)\n",
    "    if references:\n",
    "        result['references'] = list(map(element_to_reference, references))\n",
    "\n",
    "    return result\n",
    "\n",
    "\n",
    "def element_to_author(el):\n",
    "    result = {}\n",
    "\n",
    "    name = []\n",
    "\n",
    "    first = el.xpath('.//tei:persName/tei:forename[@type=\"first\"]',\n",
    "                     namespaces=NS)\n",
    "    if first and len(first) == 1:\n",
    "        name.append(first[0].text)\n",
    "\n",
    "    middle = el.xpath('.//tei:persName/tei:forename[@type=\"middle\"]',\n",
    "                      namespaces=NS)\n",
    "    if middle and len(middle) == 1:\n",
    "        name.append(middle[0].text + '.')\n",
    "\n",
    "    surname = el.xpath('.//tei:persName/tei:surname', namespaces=NS)\n",
    "    if surname and len(surname) == 1:\n",
    "        name.append(surname[0].text)\n",
    "\n",
    "    result['name'] = ' '.join(name)\n",
    "\n",
    "    affiliations = []\n",
    "    for aff in el.xpath('.//tei:affiliation', namespaces=NS):\n",
    "        for institution in aff.xpath('.//tei:orgName[@type=\"institution\"]',\n",
    "                                     namespaces=NS):\n",
    "            affiliations.append({\n",
    "                'value': institution.text\n",
    "            })\n",
    "\n",
    "    result['affiliations'] = affiliations\n",
    "\n",
    "    return result\n",
    "\n",
    "\n",
    "def extract_keywords(el):\n",
    "    return [{'value': e.text} for e in el.xpath('.//tei:term', namespaces=NS)]\n",
    "\n",
    "\n",
    "def element_to_reference(el):\n",
    "    result = {}\n",
    "\n",
    "    result['ref_title'] = extract_reference_title(el)\n",
    "\n",
    "    result['authors'] = [\n",
    "        element_to_author(e) for e in el.xpath('.//tei:author', namespaces=NS)\n",
    "    ]\n",
    "\n",
    "    result['journal_pubnote'] = extract_reference_pubnote(el)\n",
    "\n",
    "    return result\n",
    "\n",
    "\n",
    "def extract_reference_title(el):\n",
    "    title = el.xpath(\n",
    "        './/tei:analytic/tei:title[@level=\"a\" and @type=\"main\"]',\n",
    "        namespaces=NS\n",
    "    )\n",
    "    if title and len(title) == 1:\n",
    "        return title[0].text\n",
    "\n",
    "\n",
    "def extract_reference_pubnote(el):\n",
    "    result = {}\n",
    "\n",
    "    journal_title = el.xpath('./tei:monogr/tei:title', namespaces=NS)\n",
    "    if journal_title and len(journal_title) == 1:\n",
    "        result['journal_title'] = journal_title[0].text\n",
    "\n",
    "    journal_volume = el.xpath(\n",
    "        './tei:monogr/tei:imprint/tei:biblScope[@unit=\"volume\"]',\n",
    "        namespaces=NS\n",
    "    )\n",
    "    if journal_volume and len(journal_volume) == 1:\n",
    "        result['journal_volume'] = journal_volume[0].text\n",
    "\n",
    "    journal_issue = el.xpath(\n",
    "        './tei:monogr/tei:imprint/tei:biblScope[@unit=\"issue\"]',\n",
    "        namespaces=NS\n",
    "    )\n",
    "    if journal_issue and len(journal_issue) == 1:\n",
    "        result['journal_issue'] = journal_issue[0].text\n",
    "\n",
    "    year = el.xpath(\n",
    "        './tei:monogr/tei:imprint/tei:date[@type=\"published\"]/@when',\n",
    "        namespaces=NS\n",
    "    )\n",
    "    if year and len(year) == 1:\n",
    "        result['year'] = year[0]\n",
    "\n",
    "    pages = []\n",
    "\n",
    "    page_from = el.xpath(\n",
    "        './tei:monogr/tei:imprint/tei:biblScope[@unit=\"page\"]/@from',\n",
    "        namespaces=NS\n",
    "    )\n",
    "    if page_from and len(page_from) == 1:\n",
    "        pages.append(page_from[0])\n",
    "\n",
    "    page_to = el.xpath(\n",
    "        './tei:monogr/tei:imprint/tei:biblScope[@unit=\"page\"]/@to',\n",
    "        namespaces=NS\n",
    "    )\n",
    "    if page_to and len(page_to) == 1:\n",
    "        pages.append(page_to[0])\n",
    "\n",
    "    result['page_range'] = '-'.join(pages)\n",
    "\n",
    "    return result\n",
    "\n",
    "\n",
    "def get_abstract(root):\n",
    "    return root.xpath('//tei:profileDesc/tei:abstract/tei:p', namespaces=NS)\n",
    "\n",
    "\n",
    "def get_authors(root):\n",
    "    return root.xpath('//tei:fileDesc//tei:author', namespaces=NS)\n",
    "\n",
    "\n",
    "def get_keywords(root):\n",
    "    return root.xpath('//tei:profileDesc/tei:textClass/tei:keywords', namespaces=NS)\n",
    "\n",
    "\n",
    "def get_references(root):\n",
    "    return root.xpath('//tei:text//tei:listBibl/tei:biblStruct', namespaces=NS)\n",
    "\n",
    "\n",
    "def get_title(root):\n",
    "    return root.xpath('//tei:titleStmt/tei:title', namespaces=NS)\n",
    "\n"
   ]
  },
  {
   "cell_type": "code",
   "execution_count": 196,
   "metadata": {},
   "outputs": [
    {
     "data": {
      "text/plain": [
       "\"New citrus fruit varieties with the right pomological and organoleptic characteristics are expected by consumers and the fresh citrus fruit market. Apart from a good balance between sugar content and acidity, seedlessness is particularly demanded. Triploidy is one of the best ways to obtain seedless cultivars, and, taking advantage of diploid gametes, research programs have succeeded in creating them. Triploid hybrids are sterile and, when associated with parthenocarpy, produce seedless fruits. However, no studies have compared the potential agronomic interest of diploid and triploid cultivars to date. The aims of this study were to investigate the effects of (i) cross direction between diploid and triploid reciprocal populations of mandarin hybrids and (ii) the increase in ploidy level from diploidy to triploidy phenotypic variation in quantitative agronomic traits. Reciprocal crosses between 'Fortune' mandarin and 'Ellendale' tangor generated two diploid and two triploid populations; we then phenotyped by measuring fruit and juice weights, sugar content and titratable acidity over three harvesting campaigns. Significant differences in sugar and acidity levels were observed between triploid populations. Both triploid progenies varied according to their respective female genitor, unlike diploid populations in which no relationship was found between their phenotypic variation and that of their parents. Considering each cross direction separately, the comparison of diploid and triploid populations revealed that triploid hybrids were juicier and sweeter. A genomic dosage effect appears to be the most plausible explanation for these variations. These innovative results will help optimize triploid citrus breeding programmes by choosing the appropriate diploid gamete producing parent.\""
      ]
     },
     "execution_count": 196,
     "metadata": {},
     "output_type": "execute_result"
    }
   ],
   "source": [
    "dict.get('abstract')"
   ]
  },
  {
   "cell_type": "code",
   "execution_count": 197,
   "metadata": {},
   "outputs": [
    {
     "data": {
      "text/plain": [
       "[{'value': 'Ploidy'},\n",
       " {'value': 'Mandarin'},\n",
       " {'value': 'Reciprocal crosses'},\n",
       " {'value': 'Dosage effect'},\n",
       " {'value': 'Phenotypic variation'}]"
      ]
     },
     "execution_count": 197,
     "metadata": {},
     "output_type": "execute_result"
    }
   ],
   "source": [
    "dict.get('keywords')"
   ]
  },
  {
   "cell_type": "code",
   "execution_count": 198,
   "metadata": {},
   "outputs": [
    {
     "data": {
      "text/plain": [
       "'The effect of cross direction and ploidy level on phenotypic variation of reciprocal diploid and triploid mandarin hybrids'"
      ]
     },
     "execution_count": 198,
     "metadata": {},
     "output_type": "execute_result"
    }
   ],
   "source": [
    "dict.get('title')"
   ]
  },
  {
   "cell_type": "code",
   "execution_count": 199,
   "metadata": {},
   "outputs": [
    {
     "data": {
      "text/plain": [
       "[{'name': 'Dalel Ahmed',\n",
       "  'affiliations': [{'value': 'INRA'}, {'value': 'University of Montpellier'}]},\n",
       " {'name': 'Jean-Charles Evrard', 'affiliations': []},\n",
       " {'name': 'Patrick Ollitrault', 'affiliations': []},\n",
       " {'name': 'Yann Froelicher', 'affiliations': []}]"
      ]
     },
     "execution_count": 199,
     "metadata": {},
     "output_type": "execute_result"
    }
   ],
   "source": [
    "dict.get('authors')"
   ]
  },
  {
   "cell_type": "code",
   "execution_count": null,
   "metadata": {},
   "outputs": [],
   "source": []
  }
 ],
 "metadata": {
  "kernelspec": {
   "display_name": "Python 3",
   "language": "python",
   "name": "python3"
  },
  "language_info": {
   "codemirror_mode": {
    "name": "ipython",
    "version": 3
   },
   "file_extension": ".py",
   "mimetype": "text/x-python",
   "name": "python",
   "nbconvert_exporter": "python",
   "pygments_lexer": "ipython3",
   "version": "3.7.3"
  }
 },
 "nbformat": 4,
 "nbformat_minor": 4
}
